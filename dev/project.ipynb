{
 "cells": [
  {
   "cell_type": "code",
   "execution_count": null,
   "metadata": {},
   "outputs": [],
   "source": []
  },
  {
   "cell_type": "markdown",
   "metadata": {},
   "source": [
    "## data description\n",
    "### Data Fields\n",
    "|Column Name\t|Attribute/Target|\tDescription|\n",
    "|---------------|----------------|-------------|\n",
    "|ID\t|N/A\t|Unique number to represent patient ID|\n",
    "|PRG\t|Attribute1\t|Plasma glucose|\n",
    "|PL\t|Attribute 2\t|Blood Work Result-1 (mu U/ml)|\n",
    "|PR\t|Attribute 3\t|Blood Pressure (mm Hg)|\n",
    "|SK\t|Attribute 4\t|Blood Work Result-2 (mm)|\n",
    "|TS\t|Attribute 5\t|Blood Work Result-3 (mu U/ml)|\n",
    "|M11\t|Attribute 6\t|Body mass index (weight in kg/(height in m)^2)|\n",
    "|BD2\t|Attribute 7\t|Blood Work Result-4 (mu U/ml)|\n",
    "|Age\t|Attribute 8\t|patients age (years)|\n",
    "|Insurance\t|N/A\t|If a patient holds a valid insurance card|\n",
    "|Sepssis\t|Target\t|Positive: if a patient in ICU will develop a sepsis , and Negative: otherwise|"
   ]
  },
  {
   "cell_type": "markdown",
   "metadata": {},
   "source": []
  }
 ],
 "metadata": {
  "language_info": {
   "name": "python"
  }
 },
 "nbformat": 4,
 "nbformat_minor": 2
}
